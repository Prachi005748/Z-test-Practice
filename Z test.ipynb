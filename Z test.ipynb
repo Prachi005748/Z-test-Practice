{
 "cells": [
  {
   "cell_type": "code",
   "execution_count": 2,
   "id": "0859fca9-cbd3-4ffe-86a2-77f8f161eab5",
   "metadata": {},
   "outputs": [],
   "source": [
    "import numpy as np\n",
    "from scipy.stats import norm"
   ]
  },
  {
   "cell_type": "code",
   "execution_count": 6,
   "id": "96f63bc6-68b0-443e-9473-d06367827b28",
   "metadata": {},
   "outputs": [],
   "source": [
    "sample = [172,174,168,169,171,173,175,170,169,172]\n",
    "population_mean = 170\n",
    "population_std = 3\n",
    "samp_mean = np.mean(sample)\n",
    "n = len(sample)"
   ]
  },
  {
   "cell_type": "markdown",
   "id": "b2da839b-9bc9-4719-ab0f-1725aa51e934",
   "metadata": {},
   "source": [
    "# Phele hum Z score balue find krege"
   ]
  },
  {
   "cell_type": "code",
   "execution_count": 8,
   "id": "576282bc-bbc3-4468-8794-b1a649246f66",
   "metadata": {},
   "outputs": [
    {
     "data": {
      "text/plain": [
       "np.float64(1.3703203194063098)"
      ]
     },
     "execution_count": 8,
     "metadata": {},
     "output_type": "execute_result"
    }
   ],
   "source": [
    "z_score = (samp_mean - population_mean) / (population_std / np.sqrt(n))\n",
    "z_score"
   ]
  },
  {
   "cell_type": "markdown",
   "id": "5ac5ca14-24eb-4747-8c76-c44a54e6b773",
   "metadata": {},
   "source": [
    "# Calculate the P score"
   ]
  },
  {
   "cell_type": "code",
   "execution_count": 9,
   "id": "ba124830-8cd2-4648-a2e6-04dd11a6c3c4",
   "metadata": {},
   "outputs": [
    {
     "data": {
      "text/plain": [
       "np.float64(0.17058693287143756)"
      ]
     },
     "execution_count": 9,
     "metadata": {},
     "output_type": "execute_result"
    }
   ],
   "source": [
    "p_value = 2 * (1-norm.cdf(abs(z_score)))\n",
    "p_value"
   ]
  },
  {
   "cell_type": "code",
   "execution_count": 10,
   "id": "ec014a04-b70e-4e72-a280-1619404669a2",
   "metadata": {},
   "outputs": [
    {
     "name": "stdout",
     "output_type": "stream",
     "text": [
      "I will accpt the null hypothesis\n"
     ]
    }
   ],
   "source": [
    "alpha  = 0.05\n",
    "if p_value < alpha:\n",
    "    print(\"I will reject the null hypothesis\")\n",
    "else:\n",
    "    print(\"I will accpt the null hypothesis\")"
   ]
  },
  {
   "cell_type": "code",
   "execution_count": null,
   "id": "4630692f-8c36-48f3-bc34-2ad6a7ab62aa",
   "metadata": {},
   "outputs": [],
   "source": []
  },
  {
   "cell_type": "code",
   "execution_count": null,
   "id": "b5b5c911-12bb-4566-a327-7de78eff61b9",
   "metadata": {},
   "outputs": [],
   "source": []
  },
  {
   "cell_type": "code",
   "execution_count": null,
   "id": "5b93ddf3-a617-482c-8614-876e9a769546",
   "metadata": {},
   "outputs": [],
   "source": []
  },
  {
   "cell_type": "code",
   "execution_count": null,
   "id": "251e351a-7bae-43a5-9190-d37ff0a65c1e",
   "metadata": {},
   "outputs": [],
   "source": []
  },
  {
   "cell_type": "code",
   "execution_count": null,
   "id": "3be8f16f-51c7-4650-989d-b47fc0464e1e",
   "metadata": {},
   "outputs": [],
   "source": []
  }
 ],
 "metadata": {
  "kernelspec": {
   "display_name": "Python [conda env:base]",
   "language": "python",
   "name": "base"
  },
  "language_info": {
   "codemirror_mode": {
    "name": "ipython",
    "version": 3
   },
   "file_extension": ".py",
   "mimetype": "text/x-python",
   "name": "python",
   "nbconvert_exporter": "python",
   "pygments_lexer": "ipython3",
   "version": "3.13.5"
  }
 },
 "nbformat": 4,
 "nbformat_minor": 5
}
